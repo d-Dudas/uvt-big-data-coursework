{
 "cells": [
  {
   "cell_type": "code",
   "execution_count": null,
   "id": "917364d0",
   "metadata": {},
   "outputs": [],
   "source": [
    "from utils import get_cleaned_syscall_files\n",
    "from collections import Counter, defaultdict\n",
    "import pandas as pd\n",
    "import numpy as np\n",
    "import matplotlib.pyplot as plt\n",
    "\n",
    "syscall_cleaned_dataset_files = get_cleaned_syscall_files()"
   ]
  },
  {
   "cell_type": "code",
   "execution_count": null,
   "id": "d19b69b9",
   "metadata": {},
   "outputs": [],
   "source": [
    "event_counter = Counter()\n",
    "\n",
    "for file in syscall_cleaned_dataset_files:\n",
    "    df = pd.read_csv(file, usecols=[\"eventName\"])\n",
    "    event_counter.update(df[\"eventName\"])\n",
    "\n",
    "event_names = list(event_counter.keys())\n",
    "event_counts = list(event_counter.values())\n",
    "\n",
    "# Plot\n",
    "plt.figure(figsize=(14, 6))\n",
    "plt.bar(event_names, event_counts)\n",
    "plt.title(\"Count of Each eventName\")\n",
    "plt.xlabel(\"eventName\")\n",
    "plt.ylabel(\"Count\")\n",
    "plt.xticks(rotation=45, ha='right')\n",
    "plt.tight_layout()\n",
    "plt.grid(axis='y')\n",
    "plt.show()"
   ]
  },
  {
   "cell_type": "code",
   "execution_count": null,
   "id": "0b809079",
   "metadata": {},
   "outputs": [],
   "source": [
    "# Store counts per eventName and category\n",
    "event_classification = defaultdict(lambda: {\"benign\": 0, \"sus\": 0, \"evil\": 0})\n",
    "\n",
    "for file in syscall_cleaned_dataset_files:\n",
    "    df = pd.read_csv(file, usecols=[\"eventName\", \"sus\", \"evil\"])\n",
    "    \n",
    "    for _, row in df.iterrows():\n",
    "        if row[\"evil\"] == 1:\n",
    "            event_classification[row[\"eventName\"]][\"evil\"] += 1\n",
    "        elif row[\"sus\"] == 1:\n",
    "            event_classification[row[\"eventName\"]][\"sus\"] += 1\n",
    "        else:\n",
    "            event_classification[row[\"eventName\"]][\"benign\"] += 1\n",
    "\n",
    "# Data\n",
    "event_names = list(event_classification.keys())\n",
    "benign_counts = [event_classification[e][\"benign\"] for e in event_names]\n",
    "sus_counts = [event_classification[e][\"sus\"] for e in event_names]\n",
    "evil_counts = [event_classification[e][\"evil\"] for e in event_names]\n",
    "\n",
    "x = np.arange(len(event_names))  # bar positions\n",
    "width = 0.25  # width of each bar\n",
    "\n",
    "# Plot grouped bars\n",
    "plt.figure(figsize=(14, 6))\n",
    "plt.bar(x - width, benign_counts, width, label='Benign')\n",
    "plt.bar(x,         sus_counts,   width, label='Suspicious')\n",
    "plt.bar(x + width, evil_counts,  width, label='Evil')\n",
    "\n",
    "# Labels and styling\n",
    "plt.title(\"EventName Classification: Benign vs Suspicious vs Evil\")\n",
    "plt.xlabel(\"eventName\")\n",
    "plt.ylabel(\"Count\")\n",
    "plt.xticks(x, event_names, rotation=45, ha='right')\n",
    "plt.legend()\n",
    "plt.tight_layout()\n",
    "plt.grid(axis='y')\n",
    "plt.show()"
   ]
  }
 ],
 "metadata": {
  "kernelspec": {
   "display_name": "coursework-oojbM-R2",
   "language": "python",
   "name": "python3"
  },
  "language_info": {
   "codemirror_mode": {
    "name": "ipython",
    "version": 3
   },
   "file_extension": ".py",
   "mimetype": "text/x-python",
   "name": "python",
   "nbconvert_exporter": "python",
   "pygments_lexer": "ipython3",
   "version": "3.13.3"
  }
 },
 "nbformat": 4,
 "nbformat_minor": 5
}
