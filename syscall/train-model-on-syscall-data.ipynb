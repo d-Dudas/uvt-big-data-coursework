{
 "cells": [
  {
   "cell_type": "code",
   "execution_count": 13,
   "id": "70865eee",
   "metadata": {},
   "outputs": [],
   "source": [
    "import os\n",
    "import sys\n",
    "sys.path.append(os.path.abspath(\"..\"))\n",
    "from common.utils import get_cleaned_syscall_files\n",
    "from sklearn.preprocessing import OneHotEncoder\n",
    "from sklearn.preprocessing import LabelEncoder\n",
    "from sklearn.feature_extraction.text import TfidfVectorizer\n",
    "from scipy.sparse import hstack\n",
    "from scipy.sparse import csr_matrix\n",
    "import pandas as pd\n",
    "\n",
    "def get_data():\n",
    "    dfs = []\n",
    "    files = get_cleaned_syscall_files()\n",
    "    for f in files:\n",
    "        df = pd.read_csv(f)\n",
    "        dfs.append(df)\n",
    "    \n",
    "    df = pd.concat(dfs, ignore_index=True)\n",
    "\n",
    "    return df\n",
    "\n",
    "def encode_process_and_event_name(df):\n",
    "    ohe = OneHotEncoder(handle_unknown='ignore', sparse_output=True)\n",
    "    ohe_features = ohe.fit_transform(df[['processName', 'eventName']])\n",
    "\n",
    "    return ohe_features\n",
    "\n",
    "def encode_user_id(df):\n",
    "    le_user = LabelEncoder()\n",
    "    user_id_encoded = le_user.fit_transform(df['userId'])\n",
    "    user_id_encoded = user_id_encoded.reshape(-1, 1) \n",
    "\n",
    "    user_id_sparse = csr_matrix(user_id_encoded)\n",
    "\n",
    "    return user_id_sparse\n",
    "\n",
    "def encode_args(df):\n",
    "    tfidf = TfidfVectorizer(max_features=500)\n",
    "    args_tfidf = tfidf.fit_transform(df['args'].astype(str))\n",
    "\n",
    "    return args_tfidf\n",
    "\n",
    "data = get_data()\n",
    "process_and_event_name_encoded = encode_process_and_event_name(data)\n",
    "user_id_encoded = encode_user_id(data)\n",
    "args_encoded = encode_args(data)\n",
    "\n",
    "X = hstack([process_and_event_name_encoded, user_id_encoded, args_encoded])\n",
    "y = data['label'].values\n",
    "label_encoder = LabelEncoder()\n",
    "y = label_encoder.fit_transform(y)"
   ]
  },
  {
   "cell_type": "code",
   "execution_count": 15,
   "id": "848e428d",
   "metadata": {},
   "outputs": [
    {
     "name": "stdout",
     "output_type": "stream",
     "text": [
      "Training set size: 2132894 samples\n",
      "Testing set size: 533224 samples\n"
     ]
    }
   ],
   "source": [
    "from sklearn.model_selection import train_test_split\n",
    "\n",
    "X_train, X_test, y_train, y_test = train_test_split(\n",
    "    X, \n",
    "    y, \n",
    "    test_size=0.2,  # 80% training, 20% testing\n",
    "    random_state=42, \n",
    "    stratify=y  # Important to keep class distribution\n",
    ")\n",
    "\n",
    "y_train_encoded = label_encoder.fit_transform(y_train)\n",
    "y_test_encoded = label_encoder.transform(y_test)\n",
    "\n",
    "print(f\"Training set size: {X_train.shape[0]} samples\")\n",
    "print(f\"Testing set size: {X_test.shape[0]} samples\")"
   ]
  },
  {
   "cell_type": "code",
   "execution_count": 11,
   "id": "fde2d567",
   "metadata": {},
   "outputs": [
    {
     "name": "stdout",
     "output_type": "stream",
     "text": [
      "Training until validation scores don't improve for 50 rounds\n",
      "[50]\ttraining's multi_logloss: 0.102949\tvalid_1's multi_logloss: 0.103401\n",
      "[100]\ttraining's multi_logloss: 0.0969455\tvalid_1's multi_logloss: 0.0974051\n",
      "[150]\ttraining's multi_logloss: 0.0957243\tvalid_1's multi_logloss: 0.0962184\n",
      "[200]\ttraining's multi_logloss: 0.0951775\tvalid_1's multi_logloss: 0.0957039\n",
      "[250]\ttraining's multi_logloss: 0.0948565\tvalid_1's multi_logloss: 0.0954046\n",
      "[300]\ttraining's multi_logloss: 0.0946179\tvalid_1's multi_logloss: 0.0951904\n",
      "[350]\ttraining's multi_logloss: 0.0944606\tvalid_1's multi_logloss: 0.0950556\n",
      "[400]\ttraining's multi_logloss: 0.0943509\tvalid_1's multi_logloss: 0.0949705\n",
      "[450]\ttraining's multi_logloss: 0.094271\tvalid_1's multi_logloss: 0.0949114\n",
      "[500]\ttraining's multi_logloss: 0.0941967\tvalid_1's multi_logloss: 0.0948652\n",
      "[550]\ttraining's multi_logloss: 0.0941425\tvalid_1's multi_logloss: 0.0948466\n",
      "[600]\ttraining's multi_logloss: 0.0941015\tvalid_1's multi_logloss: 0.0948403\n",
      "[650]\ttraining's multi_logloss: 0.0940661\tvalid_1's multi_logloss: 0.0948425\n",
      "Early stopping, best iteration is:\n",
      "[615]\ttraining's multi_logloss: 0.0940891\tvalid_1's multi_logloss: 0.0948388\n"
     ]
    }
   ],
   "source": [
    "import lightgbm as lgb\n",
    "from lightgbm import early_stopping, log_evaluation\n",
    "\n",
    "# Create datasets\n",
    "train_data = lgb.Dataset(X_train, label=y_train)\n",
    "test_data = lgb.Dataset(X_test, label=y_test, reference=train_data)\n",
    "\n",
    "# LightGBM parameters\n",
    "params = {\n",
    "    'objective': 'multiclass',\n",
    "    'num_class': 3,  # because you have 3 classes\n",
    "    'metric': 'multi_logloss',\n",
    "    'boosting_type': 'gbdt',\n",
    "    'learning_rate': 0.05,\n",
    "    'num_leaves': 31,\n",
    "    'verbose': -1\n",
    "}\n",
    "\n",
    "# Train with early stopping and logging\n",
    "model = lgb.train(\n",
    "    params,\n",
    "    train_data,\n",
    "    valid_sets=[train_data, test_data],\n",
    "    num_boost_round=1000,\n",
    "    callbacks=[\n",
    "        early_stopping(stopping_rounds=50),\n",
    "        log_evaluation(period=50)\n",
    "    ]\n",
    ")"
   ]
  },
  {
   "cell_type": "code",
   "execution_count": 16,
   "id": "41648463",
   "metadata": {},
   "outputs": [
    {
     "name": "stdout",
     "output_type": "stream",
     "text": [
      "              precision    recall  f1-score   support\n",
      "\n",
      "           0       0.95      1.00      0.97    476767\n",
      "           1       1.00      1.00      1.00      2001\n",
      "           2       0.98      0.56      0.71     54456\n",
      "\n",
      "    accuracy                           0.95    533224\n",
      "   macro avg       0.98      0.85      0.90    533224\n",
      "weighted avg       0.95      0.95      0.95    533224\n",
      "\n"
     ]
    }
   ],
   "source": [
    "# Predict probabilities\n",
    "y_pred = model.predict(X_test)\n",
    "\n",
    "# Get the predicted classes\n",
    "y_pred_classes = y_pred.argmax(axis=1)\n",
    "\n",
    "# Decode back to original labels (benign/suspicious/evil)\n",
    "y_pred_labels = label_encoder.inverse_transform(y_pred_classes)\n",
    "y_test_labels = label_encoder.inverse_transform(y_test_encoded)\n",
    "\n",
    "# Classification report\n",
    "from sklearn.metrics import classification_report\n",
    "\n",
    "print(classification_report(y_test_labels, y_pred_labels))\n"
   ]
  }
 ],
 "metadata": {
  "kernelspec": {
   "display_name": "coursework-oojbM-R2",
   "language": "python",
   "name": "python3"
  },
  "language_info": {
   "codemirror_mode": {
    "name": "ipython",
    "version": 3
   },
   "file_extension": ".py",
   "mimetype": "text/x-python",
   "name": "python",
   "nbconvert_exporter": "python",
   "pygments_lexer": "ipython3",
   "version": "3.13.3"
  }
 },
 "nbformat": 4,
 "nbformat_minor": 5
}
