{
 "cells": [
  {
   "cell_type": "code",
   "execution_count": 3,
   "id": "660330c6",
   "metadata": {},
   "outputs": [],
   "source": [
    "import os\n",
    "import sys\n",
    "sys.path.append(os.path.abspath(\"..\"))\n",
    "from common.utils import get_syscall_files\n",
    "import pandas as pd\n",
    "\n",
    "syscall_dataset_files = get_syscall_files()"
   ]
  },
  {
   "cell_type": "markdown",
   "id": "70dac8d1",
   "metadata": {},
   "source": [
    "### **The dataset have the following features:**  \n",
    "\n",
    "- timestamp - not really useful for our ML model, since the timestamp is not relevant in the context of evilness of a call\n",
    "- processId - not useful, since an evil process can have any ID\n",
    "- parentProcessId - not useful, since an evil process' parent can have any ID\n",
    "- **userId**\n",
    "- **processName**\n",
    "- hostName - not useful, since an attack can happen to any host\n",
    "- eventId - not useful, since an evil event can have any ID\n",
    "- **eventName**\n",
    "- **argsNum**\n",
    "- **returnValue**\n",
    "- **args**\n",
    "- **sus**\n",
    "- **evil**"
   ]
  },
  {
   "cell_type": "code",
   "execution_count": 4,
   "id": "b9c708b0",
   "metadata": {},
   "outputs": [
    {
     "name": "stdout",
     "output_type": "stream",
     "text": [
      "Processing file: /home/ddudas/uvt/big-data/coursework/common/../dataset/labelled_2021may-ip-10-100-1-4.csv\n",
      "Saving cleaned file: /home/ddudas/uvt/big-data/coursework/common/../dataset/labelled_2021may-ip-10-100-1-4_cleaned.csv\n",
      "Processing file: /home/ddudas/uvt/big-data/coursework/common/../dataset/labelled_2021may-ip-10-100-1-26.csv\n",
      "Saving cleaned file: /home/ddudas/uvt/big-data/coursework/common/../dataset/labelled_2021may-ip-10-100-1-26_cleaned.csv\n",
      "Processing file: /home/ddudas/uvt/big-data/coursework/common/../dataset/labelled_2021may-ubuntu.csv\n",
      "Saving cleaned file: /home/ddudas/uvt/big-data/coursework/common/../dataset/labelled_2021may-ubuntu_cleaned.csv\n",
      "Processing file: /home/ddudas/uvt/big-data/coursework/common/../dataset/labelled_2021may-ip-10-100-1-186.csv\n",
      "Saving cleaned file: /home/ddudas/uvt/big-data/coursework/common/../dataset/labelled_2021may-ip-10-100-1-186_cleaned.csv\n",
      "Processing file: /home/ddudas/uvt/big-data/coursework/common/../dataset/labelled_2021may-ip-10-100-1-95.csv\n",
      "Saving cleaned file: /home/ddudas/uvt/big-data/coursework/common/../dataset/labelled_2021may-ip-10-100-1-95_cleaned.csv\n",
      "Processing file: /home/ddudas/uvt/big-data/coursework/common/../dataset/labelled_2021may-ip-10-100-1-105.csv\n",
      "Saving cleaned file: /home/ddudas/uvt/big-data/coursework/common/../dataset/labelled_2021may-ip-10-100-1-105_cleaned.csv\n"
     ]
    }
   ],
   "source": [
    "columns_to_keep = [\n",
    "    'userId',\n",
    "    'processName',\n",
    "    'eventName',\n",
    "    'argsNum',\n",
    "    'returnValue',\n",
    "    'args',\n",
    "    'label'\n",
    "]\n",
    "\n",
    "def assign_label(row):\n",
    "    if row['evil'] == 1:\n",
    "        return 'evil'\n",
    "    elif row['sus'] == 1:\n",
    "        return 'suspicious'\n",
    "    else:\n",
    "        return 'benign'\n",
    "\n",
    "for file in syscall_dataset_files:\n",
    "    print(f\"Processing file: {file}\")\n",
    "    df = pd.read_csv(file)\n",
    "    df['label'] = df.apply(assign_label, axis=1)\n",
    "    df = df[columns_to_keep]\n",
    "\n",
    "    cleaned_file_name = file.split('.csv')[0] + '_cleaned.csv'\n",
    "    print(f\"Saving cleaned file: {cleaned_file_name}\")\n",
    "    df.to_csv(cleaned_file_name, index=False)"
   ]
  }
 ],
 "metadata": {
  "kernelspec": {
   "display_name": "coursework-oojbM-R2",
   "language": "python",
   "name": "python3"
  },
  "language_info": {
   "codemirror_mode": {
    "name": "ipython",
    "version": 3
   },
   "file_extension": ".py",
   "mimetype": "text/x-python",
   "name": "python",
   "nbconvert_exporter": "python",
   "pygments_lexer": "ipython3",
   "version": "3.13.3"
  }
 },
 "nbformat": 4,
 "nbformat_minor": 5
}
