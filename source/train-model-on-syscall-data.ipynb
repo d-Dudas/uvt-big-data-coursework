{
 "cells": [
  {
   "cell_type": "code",
   "execution_count": 2,
   "id": "70a98499",
   "metadata": {},
   "outputs": [],
   "source": [
    "import utils.utils as utils\n",
    "import pandas as pd\n",
    "\n",
    "def get_data():\n",
    "    dfs = []\n",
    "    files = utils.get_cleaned_datafiles()\n",
    "    for f in files:\n",
    "        df = pd.read_csv(f)\n",
    "        dfs.append(df)\n",
    "    \n",
    "    df = pd.concat(dfs, ignore_index=True)\n",
    "\n",
    "    return df"
   ]
  },
  {
   "cell_type": "code",
   "execution_count": 3,
   "id": "848e428d",
   "metadata": {},
   "outputs": [
    {
     "name": "stdout",
     "output_type": "stream",
     "text": [
      "Training set size: 1973516 samples\n",
      "Testing set size: 493380 samples\n"
     ]
    }
   ],
   "source": [
    "from sklearn.model_selection import train_test_split\n",
    "from utils.DataProcesser import DataProcesser\n",
    "\n",
    "dp = DataProcesser(get_data())\n",
    "\n",
    "X = dp.get_encoded_features()\n",
    "y = dp.get_encoded_labels()\n",
    "\n",
    "X_train, X_test, y_train, y_test = train_test_split(\n",
    "    X, \n",
    "    y, \n",
    "    test_size=0.2,\n",
    "    random_state=42,\n",
    "    stratify=y\n",
    ")\n",
    "\n",
    "print(f\"Training set size: {X_train.shape[0]} samples\")\n",
    "print(f\"Testing set size: {X_test.shape[0]} samples\")"
   ]
  },
  {
   "cell_type": "code",
   "execution_count": 4,
   "id": "fde2d567",
   "metadata": {},
   "outputs": [
    {
     "name": "stdout",
     "output_type": "stream",
     "text": [
      "Training until validation scores don't improve for 50 rounds\n",
      "[50]\ttraining's multi_logloss: 0.111162\tvalid_1's multi_logloss: 0.111334\n",
      "[100]\ttraining's multi_logloss: 0.104741\tvalid_1's multi_logloss: 0.104951\n",
      "[150]\ttraining's multi_logloss: 0.103472\tvalid_1's multi_logloss: 0.103709\n",
      "[200]\ttraining's multi_logloss: 0.102931\tvalid_1's multi_logloss: 0.103201\n",
      "[250]\ttraining's multi_logloss: 0.102581\tvalid_1's multi_logloss: 0.102882\n",
      "[300]\ttraining's multi_logloss: 0.102296\tvalid_1's multi_logloss: 0.102622\n",
      "[350]\ttraining's multi_logloss: 0.102139\tvalid_1's multi_logloss: 0.102494\n",
      "[400]\ttraining's multi_logloss: 0.102021\tvalid_1's multi_logloss: 0.102403\n",
      "[450]\ttraining's multi_logloss: 0.101929\tvalid_1's multi_logloss: 0.102337\n",
      "[500]\ttraining's multi_logloss: 0.101832\tvalid_1's multi_logloss: 0.102274\n",
      "[550]\ttraining's multi_logloss: 0.10177\tvalid_1's multi_logloss: 0.102252\n",
      "[600]\ttraining's multi_logloss: 0.101728\tvalid_1's multi_logloss: 0.102244\n",
      "[650]\ttraining's multi_logloss: 0.101695\tvalid_1's multi_logloss: 0.102239\n",
      "[700]\ttraining's multi_logloss: 0.101668\tvalid_1's multi_logloss: 0.10224\n",
      "Early stopping, best iteration is:\n",
      "[666]\ttraining's multi_logloss: 0.101685\tvalid_1's multi_logloss: 0.102237\n"
     ]
    }
   ],
   "source": [
    "import lightgbm as lgb\n",
    "from lightgbm import early_stopping, log_evaluation\n",
    "\n",
    "train_data = lgb.Dataset(X_train, label=y_train)\n",
    "test_data = lgb.Dataset(X_test, label=y_test, reference=train_data)\n",
    "\n",
    "params = {\n",
    "    'objective': 'multiclass',\n",
    "    'num_class': 3,\n",
    "    'metric': 'multi_logloss',\n",
    "    'boosting_type': 'gbdt',\n",
    "    'learning_rate': 0.05,\n",
    "    'num_leaves': 31,\n",
    "    'verbose': -1\n",
    "}\n",
    "\n",
    "model = lgb.train(\n",
    "    params,\n",
    "    train_data,\n",
    "    valid_sets=[train_data, test_data],\n",
    "    num_boost_round=1000,\n",
    "    callbacks=[\n",
    "        early_stopping(stopping_rounds=50),\n",
    "        log_evaluation(period=50)\n",
    "    ]\n",
    ")"
   ]
  },
  {
   "cell_type": "code",
   "execution_count": 5,
   "id": "41648463",
   "metadata": {},
   "outputs": [
    {
     "name": "stdout",
     "output_type": "stream",
     "text": [
      "              precision    recall  f1-score   support\n",
      "\n",
      "      benign       0.95      1.00      0.97    436923\n",
      "        evil       1.00      1.00      1.00      2001\n",
      "  suspicious       0.97      0.56      0.71     54456\n",
      "\n",
      "    accuracy                           0.95    493380\n",
      "   macro avg       0.97      0.85      0.90    493380\n",
      "weighted avg       0.95      0.95      0.94    493380\n",
      "\n"
     ]
    }
   ],
   "source": [
    "from sklearn.metrics import classification_report\n",
    "\n",
    "y_pred = model.predict(X_test)\n",
    "\n",
    "y_pred_classes = y_pred.argmax(axis=1)\n",
    "\n",
    "y_pred_labels = dp.decode_labels(y_pred_classes)\n",
    "y_test_labels = dp.decode_labels(y_test)\n",
    "\n",
    "print(classification_report(y_test_labels, y_pred_labels))\n"
   ]
  },
  {
   "cell_type": "code",
   "execution_count": 7,
   "id": "b92d32d5",
   "metadata": {},
   "outputs": [
    {
     "name": "stdout",
     "output_type": "stream",
     "text": [
      "Evil input prediction: ['evil']\n",
      "Suspicious input prediction: ['suspicious']\n",
      "Benign input prediction: ['benign']\n"
     ]
    }
   ],
   "source": [
    "from utils.constants import EVIL_INPUT, SUSPICIOUS_INPUT, BENIGN_INPUT\n",
    "\n",
    "def predict(encoded_input):\n",
    "    prediction = model.predict(encoded_input).argmax(axis=1)\n",
    "    return dp.decode_labels(prediction)\n",
    "\n",
    "encoded_evil_input = dp.encode_features(EVIL_INPUT)\n",
    "encoded_suspicious_input = dp.encode_features(SUSPICIOUS_INPUT)\n",
    "encoded_benign_input = dp.encode_features(BENIGN_INPUT)\n",
    "\n",
    "print(\"Evil input prediction:\", predict(encoded_evil_input))\n",
    "print(\"Suspicious input prediction:\", predict(encoded_suspicious_input))\n",
    "print(\"Benign input prediction:\", predict(encoded_benign_input))\n",
    "\n"
   ]
  }
 ],
 "metadata": {
  "kernelspec": {
   "display_name": "uvt-big-data-coursework-SKFQO5lH",
   "language": "python",
   "name": "python3"
  },
  "language_info": {
   "codemirror_mode": {
    "name": "ipython",
    "version": 3
   },
   "file_extension": ".py",
   "mimetype": "text/x-python",
   "name": "python",
   "nbconvert_exporter": "python",
   "pygments_lexer": "ipython3",
   "version": "3.13.3"
  }
 },
 "nbformat": 4,
 "nbformat_minor": 5
}
